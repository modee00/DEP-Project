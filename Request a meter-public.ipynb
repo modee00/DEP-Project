{
 "cells": [
  {
   "cell_type": "code",
   "execution_count": 2,
   "metadata": {
    "collapsed": false
   },
   "outputs": [
    {
     "name": "stderr",
     "output_type": "stream",
     "text": [
      "/Library/Frameworks/Python.framework/Versions/2.7/lib/python2.7/site-packages/statsmodels/compat/pandas.py:56: FutureWarning: The pandas.core.datetools module is deprecated and will be removed in a future version. Please use the pandas.tseries module instead.\n",
      "  from pandas.core import datetools\n"
     ]
    }
   ],
   "source": [
    "%matplotlib inline\n",
    "from sqlalchemy import create_engine\n",
    "from sqlalchemy_utils import database_exists, create_database\n",
    "from fbprophet import Prophet\n",
    "import pandas as pd\n",
    "import numpy as np\n",
    "import pyodbc\n",
    "import statsmodels.api as sm\n",
    "from statsmodels.tsa.stattools import acf\n",
    "from sklearn.metrics import mean_absolute_error\n",
    "from datetime import datetime\n",
    "import matplotlib.legend\n",
    "\n",
    "import matplotlib.pyplot as plt\n",
    "import pandas.io.sql as psql"
   ]
  },
  {
   "cell_type": "code",
   "execution_count": 3,
   "metadata": {
    "collapsed": false
   },
   "outputs": [
    {
     "ename": "Error",
     "evalue": "('IM002', '[IM002] [unixODBC][Driver Manager]Data source name not found, and no default driver specified (0) (SQLDriverConnect)')",
     "output_type": "error",
     "traceback": [
      "\u001b[0;31m---------------------------------------------------------------------------\u001b[0m",
      "\u001b[0;31mError\u001b[0m                                     Traceback (most recent call last)",
      "\u001b[0;32m<ipython-input-3-3500b7dd0bea>\u001b[0m in \u001b[0;36m<module>\u001b[0;34m()\u001b[0m\n\u001b[0;32m----> 1\u001b[0;31m \u001b[0mcnxn\u001b[0m \u001b[0;34m=\u001b[0m \u001b[0mpyodbc\u001b[0m\u001b[0;34m.\u001b[0m\u001b[0mconnect\u001b[0m\u001b[0;34m(\u001b[0m\u001b[0;34m'xxxxxxx'\u001b[0m\u001b[0;34m)\u001b[0m\u001b[0;34m\u001b[0m\u001b[0m\n\u001b[0m\u001b[1;32m      2\u001b[0m \u001b[0mcursor\u001b[0m \u001b[0;34m=\u001b[0m \u001b[0mcnxn\u001b[0m\u001b[0;34m.\u001b[0m\u001b[0mcursor\u001b[0m\u001b[0;34m(\u001b[0m\u001b[0;34m)\u001b[0m\u001b[0;34m\u001b[0m\u001b[0m\n",
      "\u001b[0;31mError\u001b[0m: ('IM002', '[IM002] [unixODBC][Driver Manager]Data source name not found, and no default driver specified (0) (SQLDriverConnect)')"
     ]
    }
   ],
   "source": [
    "cnxn = pyodbc.connect('xxxxxxx')\n",
    "cursor = cnxn.cursor()"
   ]
  },
  {
   "cell_type": "code",
   "execution_count": 10,
   "metadata": {
    "collapsed": false,
    "scrolled": true
   },
   "outputs": [
    {
     "data": {
      "text/plain": [
       "<pyodbc.Cursor at 0x110ac4ed0>"
      ]
     },
     "execution_count": 10,
     "metadata": {},
     "output_type": "execute_result"
    }
   ],
   "source": [
    "sql = '''SELECT * FROM dbo.Dim_Borough'''\n",
    "cursor.execute(sql)"
   ]
  },
  {
   "cell_type": "code",
   "execution_count": 8,
   "metadata": {
    "collapsed": false
   },
   "outputs": [],
   "source": [
    "sql_req_meters_BBL = '''\n",
    "SELECT Distinct(BBL)\n",
    "FROM dbo.Fact_Consumption\n",
    "WHERE Meter_No = '{0}'\n",
    "'''.format('O75744368')\n",
    "meter_BBL = pd.read_sql(sql_req_meters_BBL, cnxn)\n",
    "#meter_BBL['BBL'][0]"
   ]
  },
  {
   "cell_type": "code",
   "execution_count": 9,
   "metadata": {
    "collapsed": false
   },
   "outputs": [],
   "source": [
    "sql_req_unique_reads = '''\n",
    "SELECT COUNT(Distinct ConsumptionCF) FROM dbo.Fact_Consumption\n",
    "WHERE (ConsumptionDate BETWEEN '2013-03-01 00:00:00' AND '2016-01-01 00:00:00'\n",
    "AND BBL = '{0}')'''.format(meter_BBL['BBL'][0])\n",
    "unique_cons = pd.read_sql(sql_req_unique_reads, cnxn)\n",
    "#double check whether this meter is faulty and does not have substantial unique consumption values"
   ]
  },
  {
   "cell_type": "code",
   "execution_count": 21,
   "metadata": {
    "collapsed": false
   },
   "outputs": [],
   "source": [
    "sql_req_MeterRep = '''\n",
    "SELECT LMR_Dt, Old_Meter_No, New_Meter_No FROM dbo.MetrsReplaced WHERE\n",
    "((Old_Meter_No = '{0}' OR New_Meter_No = '{0}')\n",
    "AND LMR_Dt BETWEEN '2008-01-01 00:00:00' AND '2016-01-01 00:00:00');\n",
    "'''.format('O75744368')\n",
    "meter_rep = pd.read_sql(sql_req_MeterRep, cnxn)\n",
    "meter_rep[\"LMR_Dt\"] = pd.to_datetime(meter_rep[\"LMR_Dt\"])\n",
    "#check for last meter replacement date"
   ]
  },
  {
   "cell_type": "code",
   "execution_count": 23,
   "metadata": {
    "collapsed": false
   },
   "outputs": [],
   "source": [
    "sql_req_1 = '''\n",
    "SELECT ConsumptionCF AS y, ConsumptionDate AS ds FROM dbo.Fact_Consumption\n",
    "WHERE (ConsumptionDate BETWEEN '2013-03-01 00:00:00' AND '2016-01-01 00:00:00'\n",
    "AND ConsumptionCF <> 0\n",
    "AND BBL = '{0}')'''.format(meter_BBL['BBL'][0])\n",
    "cons1 = pd.read_sql(sql_req_1, cnxn)\n",
    "#request training data"
   ]
  },
  {
   "cell_type": "code",
   "execution_count": 25,
   "metadata": {
    "collapsed": true
   },
   "outputs": [],
   "source": [
    "sql_req_2 = '''\n",
    "SELECT ConsumptionCF  AS y, ConsumptionDate AS ds FROM dbo.Fact_Consumption\n",
    "WHERE (ConsumptionDate > '2016-01-01 00:00:00'\n",
    "AND ConsumptionCF <> 0\n",
    "AND BBL = '{0}')'''.format(meter_BBL['BBL'][0])\n",
    "cons2 = pd.read_sql(sql_req_2, cnxn)\n",
    "#request test data"
   ]
  },
  {
   "cell_type": "code",
   "execution_count": 26,
   "metadata": {
    "collapsed": false
   },
   "outputs": [],
   "source": [
    "cons1[\"ds\"] = pd.to_datetime(cons1[\"ds\"])\n",
    "cons1[\"ds\"] = (cons1[\"ds\"]).dt.date\n",
    "cons2[\"ds\"] = pd.to_datetime(cons2[\"ds\"])\n",
    "cons2[\"ds\"] = (cons2[\"ds\"]).dt.date\n",
    "#formatting"
   ]
  },
  {
   "cell_type": "code",
   "execution_count": 27,
   "metadata": {
    "collapsed": false
   },
   "outputs": [],
   "source": [
    "cons1a = cons1\n",
    "cons2a = cons2"
   ]
  },
  {
   "cell_type": "code",
   "execution_count": 28,
   "metadata": {
    "collapsed": false
   },
   "outputs": [],
   "source": [
    "cons1a_92 = cons1a.y.quantile(.92)\n",
    "cons1a_8 = cons1a.y.quantile(.08)\n",
    "cons1a = cons1a.loc[cons1a['y'] < cons1a_92]\n",
    "cons1a = cons1a.loc[cons1a['y'] > cons1a_8]\n",
    "#trimming erratic values (top and bottom .08 quartile)"
   ]
  },
  {
   "cell_type": "code",
   "execution_count": 29,
   "metadata": {
    "collapsed": false
   },
   "outputs": [],
   "source": [
    "cons2a_95 = cons1a.y.quantile(.95)\n",
    "cons2a_5 = cons1a.y.quantile(.05)\n",
    "cons2a = cons2a.loc[cons2a['y'] < cons1a_95]\n",
    "cons2a = cons2a.loc[cons2a['y'] > cons1a_5]\n",
    "#trimming erratic values (top and bottom .05 quartile)"
   ]
  },
  {
   "cell_type": "code",
   "execution_count": 30,
   "metadata": {
    "collapsed": false
   },
   "outputs": [],
   "source": [
    "fb_cons1 = pd.DataFrame(cons1a.groupby(['ds'])['y'].sum())\n",
    "fb_cons1['ds'] = fb_cons1.index\n",
    "fb_cons1 = fb_cons1.reset_index(drop=True)\n",
    "fb_cons1=fb_cons1.sort_values('ds')\n",
    "fb_cons1[\"ds\"] = pd.to_datetime(fb_cons1[\"ds\"])\n",
    "fb_cons2=cons2a[['ds','y']]\n",
    "fb_cons2 = pd.DataFrame(fb_cons2.groupby(['ds'])['y'].sum())\n",
    "fb_cons2['ds'] = fb_cons2.index\n",
    "fb_cons2 = fb_cons2.reset_index(drop=True)\n",
    "fb_cons2=fb_cons2.sort_values('ds')\n",
    "fb_cons2[\"ds\"] = pd.to_datetime(fb_cons2[\"ds\"])\n",
    "#formatting training and test data for fbprophet"
   ]
  },
  {
   "cell_type": "code",
   "execution_count": 31,
   "metadata": {
    "collapsed": false
   },
   "outputs": [],
   "source": [
    "if (len(meter_rep) > 0):\n",
    "    if( meter_rep[\"LMR_Dt\"][0] > fb_cons1[['ds']].min()[0]):\n",
    "        m = Prophet(yearly_seasonality=True,changepoints=[meter_rep[\"LMR_Dt\"][0]])\n",
    "    else:\n",
    "        m = Prophet(yearly_seasonality=True)\n",
    "else:\n",
    "    m = Prophet(yearly_seasonality=True)\n",
    "#incorporate last meter replacement date as a changepoint"
   ]
  },
  {
   "cell_type": "code",
   "execution_count": 32,
   "metadata": {
    "collapsed": false
   },
   "outputs": [],
   "source": [
    "m.fit(fb_cons1)\n",
    "future = m.make_future_dataframe(periods=(fb_cons2.shape[0]+1))\n",
    "#ensure the forecast is for the same number of days as the test data"
   ]
  },
  {
   "cell_type": "code",
   "execution_count": 33,
   "metadata": {
    "collapsed": false
   },
   "outputs": [],
   "source": [
    "forecast = m.predict(future)"
   ]
  },
  {
   "cell_type": "code",
   "execution_count": 35,
   "metadata": {
    "collapsed": true
   },
   "outputs": [],
   "source": [
    "predict_2016 = forecast[['ds', 'yhat', 'yhat_lower', 'yhat_upper']]\n",
    "cons_2016 = pd.concat([fb_cons1,fb_cons2],axis=0)\n",
    "cons_2016[\"ds\"] = pd.to_datetime(cons_2016[\"ds\"])\n",
    "all_2016 = pd.merge(cons_2016,predict_2016,left_on='ds',right_on='ds',how='left')\n",
    "#concatenated table of date, predicted data, and confidence intervals for training and forecast data"
   ]
  },
  {
   "cell_type": "code",
   "execution_count": 36,
   "metadata": {
    "collapsed": false
   },
   "outputs": [],
   "source": [
    "t1=pd.DataFrame({'year': [2016],'month': [1],'day': [1]})\n",
    "t1 = pd.to_datetime(t1).dt.date\n",
    "#beginning of forecast data"
   ]
  },
  {
   "cell_type": "code",
   "execution_count": 37,
   "metadata": {
    "collapsed": false
   },
   "outputs": [],
   "source": [
    "y_16_true = all_2016.loc[all_2016['ds'] >= t1[0], ['y','ds']]\n",
    "y_16_predict = all_2016.loc[all_2016['ds'] >= t1[0], ['yhat','ds','yhat_lower','yhat_upper']]\n",
    "y_train_true = all_2016.loc[all_2016['ds'] < t1[0], ['y','ds']]\n",
    "y_train_predict = all_2016.loc[all_2016['ds'] < t1[0], ['yhat','ds','yhat_lower','yhat_upper']]\n",
    "#extracting variables for calculating mean absolute error"
   ]
  },
  {
   "cell_type": "code",
   "execution_count": 38,
   "metadata": {
    "collapsed": false
   },
   "outputs": [],
   "source": [
    "mae_test = mean_absolute_error(y_16_true.y, y_16_predict.yhat)\n",
    "yyhatmean = ((y_16_true['y']+y_16_predict['yhat']).mean())/2\n",
    "test_mae = (\"{:.2%}\".format(mae_test/yyhatmean))\n",
    "#mean absolute error for forecast data"
   ]
  },
  {
   "cell_type": "code",
   "execution_count": 39,
   "metadata": {
    "collapsed": false
   },
   "outputs": [],
   "source": [
    "mae_train = mean_absolute_error(y_train_true.y, y_train_predict.yhat)\n",
    "yyhatmean_train = ((y_train_true['y']+y_train_predict['yhat']).mean())/2\n",
    "train_mae = (\"{:.2%}\".format(mae_train/yyhatmean_train))\n",
    "#mean absolute error for training data"
   ]
  },
  {
   "cell_type": "code",
   "execution_count": 40,
   "metadata": {
    "collapsed": false
   },
   "outputs": [],
   "source": [
    "all_2016 = all_2016.sort_values('ds')"
   ]
  },
  {
   "cell_type": "code",
   "execution_count": 41,
   "metadata": {
    "collapsed": false
   },
   "outputs": [],
   "source": [
    "yhl_train = y_train_predict.yhat_lower.tolist()\n",
    "yhu_train = y_train_predict.yhat_upper.tolist()\n",
    "dates_train = y_train_predict.ds.tolist()\n",
    "yhl_predict = y_16_predict.yhat_lower.tolist()\n",
    "yhu_predict = y_16_predict.yhat_upper.tolist()\n",
    "dates_predict = y_16_predict.ds.tolist()\n",
    "#extracting variables for plottiing"
   ]
  },
  {
   "cell_type": "code",
   "execution_count": 1,
   "metadata": {
    "collapsed": false
   },
   "outputs": [
    {
     "ename": "NameError",
     "evalue": "name 'plt' is not defined",
     "output_type": "error",
     "traceback": [
      "\u001b[0;31m---------------------------------------------------------------------------\u001b[0m",
      "\u001b[0;31mNameError\u001b[0m                                 Traceback (most recent call last)",
      "\u001b[0;32m<ipython-input-1-e5e8e73d6fd2>\u001b[0m in \u001b[0;36m<module>\u001b[0;34m()\u001b[0m\n\u001b[0;32m----> 1\u001b[0;31m \u001b[0mfig\u001b[0m \u001b[0;34m=\u001b[0m \u001b[0mplt\u001b[0m\u001b[0;34m.\u001b[0m\u001b[0mfigure\u001b[0m\u001b[0;34m(\u001b[0m\u001b[0mfigsize\u001b[0m\u001b[0;34m=\u001b[0m\u001b[0;34m(\u001b[0m\u001b[0;34m)\u001b[0m\u001b[0;34m)\u001b[0m\u001b[0;34m\u001b[0m\u001b[0m\n\u001b[0m\u001b[1;32m      2\u001b[0m \u001b[0;34m\u001b[0m\u001b[0m\n\u001b[1;32m      3\u001b[0m \u001b[0mplt\u001b[0m\u001b[0;34m.\u001b[0m\u001b[0mplot\u001b[0m\u001b[0;34m(\u001b[0m\u001b[0mall_2016\u001b[0m\u001b[0;34m.\u001b[0m\u001b[0mds\u001b[0m\u001b[0;34m,\u001b[0m\u001b[0mall_2016\u001b[0m\u001b[0;34m.\u001b[0m\u001b[0my\u001b[0m\u001b[0;34m,\u001b[0m\u001b[0;34m'.k'\u001b[0m\u001b[0;34m,\u001b[0m\u001b[0mlabel\u001b[0m\u001b[0;34m=\u001b[0m\u001b[0;34m'Observed consumption'\u001b[0m\u001b[0;34m)\u001b[0m\u001b[0;34m\u001b[0m\u001b[0m\n\u001b[1;32m      4\u001b[0m \u001b[0mplt\u001b[0m\u001b[0;34m.\u001b[0m\u001b[0mplot\u001b[0m\u001b[0;34m(\u001b[0m\u001b[0my_train_predict\u001b[0m\u001b[0;34m.\u001b[0m\u001b[0mds\u001b[0m\u001b[0;34m,\u001b[0m\u001b[0my_train_predict\u001b[0m\u001b[0;34m.\u001b[0m\u001b[0myhat\u001b[0m\u001b[0;34m,\u001b[0m\u001b[0mcolor\u001b[0m \u001b[0;34m=\u001b[0m \u001b[0;34m'#003399'\u001b[0m\u001b[0;34m,\u001b[0m\u001b[0mlabel\u001b[0m\u001b[0;34m=\u001b[0m\u001b[0;34m'Fit cons.'\u001b[0m\u001b[0;34m)\u001b[0m\u001b[0;34m\u001b[0m\u001b[0m\n\u001b[1;32m      5\u001b[0m \u001b[0mplt\u001b[0m\u001b[0;34m.\u001b[0m\u001b[0mplot\u001b[0m\u001b[0;34m(\u001b[0m\u001b[0my_16_predict\u001b[0m\u001b[0;34m.\u001b[0m\u001b[0mds\u001b[0m\u001b[0;34m,\u001b[0m\u001b[0my_16_predict\u001b[0m\u001b[0;34m.\u001b[0m\u001b[0myhat\u001b[0m\u001b[0;34m,\u001b[0m\u001b[0mcolor\u001b[0m \u001b[0;34m=\u001b[0m \u001b[0;34m'#009900'\u001b[0m\u001b[0;34m,\u001b[0m\u001b[0mlabel\u001b[0m\u001b[0;34m=\u001b[0m\u001b[0;34m'Forecast cons.'\u001b[0m\u001b[0;34m)\u001b[0m\u001b[0;34m\u001b[0m\u001b[0m\n",
      "\u001b[0;31mNameError\u001b[0m: name 'plt' is not defined"
     ]
    }
   ],
   "source": [
    "fig = plt.figure(figsize=())\n",
    "\n",
    "plt.plot(all_2016.ds,all_2016.y,'.k',label='Observed consumption')\n",
    "plt.plot(y_train_predict.ds,y_train_predict.yhat,color = '#003399',label='Fit cons.')\n",
    "plt.plot(y_16_predict.ds,y_16_predict.yhat,color = '#009900',label='Forecast cons.')\n",
    "plt.fill_between(dates_train,yhl_train,yhu_train,color = '#66CCFF', alpha=0.7,label='Fit confidence interval')\n",
    "plt.fill_between(dates_predict,yhl_predict,yhu_predict,color = '#28E528', alpha = 0.7,label='Forecast confidence interval')\n",
    "\n",
    "plt.ylabel('Consumption (Cubic Feet)')\n",
    "plt.ylim((min(y_16_predict.yhat_lower.min()-(3*np.std(y_16_predict.yhat_lower)),\n",
    "     y_train_predict.yhat_lower.min()-(3*np.std(y_train_predict.yhat_lower))),\n",
    "         max (y_16_predict.yhat_upper.max()+(3*np.std(y_16_predict.yhat_upper)),\n",
    "     y_train_predict.yhat_upper.max()+(3*np.std(y_train_predict.yhat_upper)))))\n",
    "\n",
    "plt.legend(loc='best')\n",
    "\n",
    "plt.show()"
   ]
  },
  {
   "cell_type": "code",
   "execution_count": null,
   "metadata": {
    "collapsed": true
   },
   "outputs": [],
   "source": []
  },
  {
   "cell_type": "code",
   "execution_count": 21,
   "metadata": {
    "collapsed": false
   },
   "outputs": [],
   "source": [
    "sql_req_bldg_desc = '''\n",
    "SELECT CATEGORY_ID, DESCRIPTION\n",
    "FROM dbo.Building_Class_Categories'''\n",
    "bldg_desc = pd.read_sql(sql_req_bldg_desc, cnxn)\n",
    "bldg_desc = bldg_desc.to_dict(orient='dict')"
   ]
  },
  {
   "cell_type": "code",
   "execution_count": 22,
   "metadata": {
    "collapsed": false
   },
   "outputs": [
    {
     "data": {
      "text/plain": [
       "{u'CATEGORY_ID': {0: 1,\n",
       "  1: 2,\n",
       "  2: 3,\n",
       "  3: 4,\n",
       "  4: 5,\n",
       "  5: 6,\n",
       "  6: 7,\n",
       "  7: 8,\n",
       "  8: 9,\n",
       "  9: 10,\n",
       "  10: 11,\n",
       "  11: 12,\n",
       "  12: 13,\n",
       "  13: 14,\n",
       "  14: 15,\n",
       "  15: 16,\n",
       "  16: 17,\n",
       "  17: 18,\n",
       "  18: 19,\n",
       "  19: 20,\n",
       "  20: 21,\n",
       "  21: 22,\n",
       "  22: 23,\n",
       "  23: 24,\n",
       "  24: 25,\n",
       "  25: 26,\n",
       "  26: 27,\n",
       "  27: 28,\n",
       "  28: 29,\n",
       "  29: 30,\n",
       "  30: 31},\n",
       " u'DESCRIPTION': {0: u'1-Family                                          ',\n",
       "  1: u'2-Family                                          ',\n",
       "  2: u'3-Family                                          ',\n",
       "  3: u'Multi-Family                                      ',\n",
       "  4: u'Elevator Apts                                     ',\n",
       "  5: u'Warehouses                                        ',\n",
       "  6: u'Factory & Industrial                              ',\n",
       "  7: u'Garages & Gas Stations                            ',\n",
       "  8: u'Hotels                                            ',\n",
       "  9: u'Hospitals & Health                                ',\n",
       "  10: u'Theaters                                          ',\n",
       "  11: u'Store Building                                    ',\n",
       "  12: u'Loft Building                                     ',\n",
       "  13: u'Churches & Synagogues                             ',\n",
       "  14: u'Asylums & Homes                                   ',\n",
       "  15: u'Office Building                                   ',\n",
       "  16: u'Public Assembly                                   ',\n",
       "  17: u'Outdoor Recreation                                ',\n",
       "  18: u'Condominiums                                      ',\n",
       "  19: u'Residence Multi-use                               ',\n",
       "  20: u'Transportation                                    ',\n",
       "  21: u'Utilities                                         ',\n",
       "  22: u'Vacant Land                                       ',\n",
       "  23: u'Educational Structures                            ',\n",
       "  24: u'Exempt Properties                                 ',\n",
       "  25: u'Govt Installations                                ',\n",
       "  26: u'Miscellaneous                                     ',\n",
       "  27: u'5-6 Family                                        ',\n",
       "  28: u'4-Family                                          ',\n",
       "  29: u'Airports                                          ',\n",
       "  30: u'Stadiums                                          '}}"
      ]
     },
     "execution_count": 22,
     "metadata": {},
     "output_type": "execute_result"
    }
   ],
   "source": [
    "bldg_desc"
   ]
  },
  {
   "cell_type": "code",
   "execution_count": null,
   "metadata": {
    "collapsed": true
   },
   "outputs": [],
   "source": []
  },
  {
   "cell_type": "code",
   "execution_count": null,
   "metadata": {
    "collapsed": true
   },
   "outputs": [],
   "source": []
  },
  {
   "cell_type": "code",
   "execution_count": null,
   "metadata": {
    "collapsed": true
   },
   "outputs": [],
   "source": []
  }
 ],
 "metadata": {
  "kernelspec": {
   "display_name": "Python 2",
   "language": "python",
   "name": "python2"
  },
  "language_info": {
   "codemirror_mode": {
    "name": "ipython",
    "version": 2
   },
   "file_extension": ".py",
   "mimetype": "text/x-python",
   "name": "python",
   "nbconvert_exporter": "python",
   "pygments_lexer": "ipython2",
   "version": "2.7.13"
  }
 },
 "nbformat": 4,
 "nbformat_minor": 2
}
